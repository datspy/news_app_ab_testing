{
 "cells": [
  {
   "cell_type": "code",
   "execution_count": 95,
   "id": "6dc2a4fb-bd91-4034-9f9b-d8633e59f796",
   "metadata": {},
   "outputs": [
    {
     "name": "stdout",
     "output_type": "stream",
     "text": [
      "(320415, 10)\n"
     ]
    }
   ],
   "source": [
    "import pandas as pd\n",
    "import numpy as np\n",
    "import scipy.stats as sstats\n",
    "import statsmodels as sm\n",
    "import warnings\n",
    "import matplotlib.pyplot as plt\n",
    "warnings.filterwarnings(\"ignore\")\n",
    "\n",
    "df = pd.read_csv('ab_test.csv')\n",
    "print(df.shape)"
   ]
  },
  {
   "cell_type": "code",
   "execution_count": 96,
   "id": "44cf3f1c-111a-4ddc-8f6b-fb628bbcb099",
   "metadata": {},
   "outputs": [
    {
     "data": {
      "text/plain": [
       "Index(['AB_TEST', 'USER_ID', 'TOPNEWS_IMPRESSION_COUNT',\n",
       "       'TOPNEWS_CLICKED_COUNT', 'ADS_IMPRESSION_TOPNEWS_COUNT',\n",
       "       'ADS_CLICKED_TOPNEWS_COUNT', 'MYNEWS_COUNT',\n",
       "       'ARTICLE_MYNEWS_CLICKED_COUNT', 'ADS_IMPRESSION_MYNEWS_COUNT',\n",
       "       'ADS_CLICKED_MYNEWS_COUNT'],\n",
       "      dtype='object')"
      ]
     },
     "execution_count": 96,
     "metadata": {},
     "output_type": "execute_result"
    }
   ],
   "source": [
    "df.columns"
   ]
  },
  {
   "cell_type": "markdown",
   "id": "8df68410-c75a-45f0-b454-df93f6251c42",
   "metadata": {},
   "source": [
    "#### Checking for missing values & dropping if any"
   ]
  },
  {
   "cell_type": "code",
   "execution_count": 97,
   "id": "76001e4c-64be-4723-b40d-203949eed514",
   "metadata": {},
   "outputs": [
    {
     "data": {
      "text/plain": [
       "AB_TEST                         0\n",
       "USER_ID                         2\n",
       "TOPNEWS_IMPRESSION_COUNT        0\n",
       "TOPNEWS_CLICKED_COUNT           0\n",
       "ADS_IMPRESSION_TOPNEWS_COUNT    0\n",
       "ADS_CLICKED_TOPNEWS_COUNT       0\n",
       "MYNEWS_COUNT                    0\n",
       "ARTICLE_MYNEWS_CLICKED_COUNT    0\n",
       "ADS_IMPRESSION_MYNEWS_COUNT     0\n",
       "ADS_CLICKED_MYNEWS_COUNT        0\n",
       "dtype: int64"
      ]
     },
     "execution_count": 97,
     "metadata": {},
     "output_type": "execute_result"
    }
   ],
   "source": [
    "df.isna().sum()"
   ]
  },
  {
   "cell_type": "code",
   "execution_count": 98,
   "id": "1074241b-15c6-4324-acb9-41a48fecb67e",
   "metadata": {},
   "outputs": [
    {
     "data": {
      "text/plain": [
       "(320413, 10)"
      ]
     },
     "execution_count": 98,
     "metadata": {},
     "output_type": "execute_result"
    }
   ],
   "source": [
    "df.dropna(inplace=True)\n",
    "df.shape"
   ]
  },
  {
   "cell_type": "code",
   "execution_count": 99,
   "id": "77e63805-9750-49f5-94fe-12ad2acd1759",
   "metadata": {},
   "outputs": [
    {
     "data": {
      "text/plain": [
       "320118"
      ]
     },
     "execution_count": 99,
     "metadata": {},
     "output_type": "execute_result"
    }
   ],
   "source": [
    "## Ensuring that the data contains only unique users.\n",
    "df['USER_ID'].nunique()"
   ]
  },
  {
   "cell_type": "markdown",
   "id": "49a087f8-e6a7-4afd-95b2-f6697b3f8563",
   "metadata": {},
   "source": [
    "#### The data contains mostly unique users. There are less than 0.09% of duplicates. Hence removing the duplicates."
   ]
  },
  {
   "cell_type": "code",
   "execution_count": 100,
   "id": "ef8f298d-2ec7-409d-9dca-ed0d17908ce8",
   "metadata": {},
   "outputs": [
    {
     "data": {
      "text/plain": [
       "(320118, 10)"
      ]
     },
     "execution_count": 100,
     "metadata": {},
     "output_type": "execute_result"
    }
   ],
   "source": [
    "df_new = df.drop_duplicates(subset=['USER_ID'])\n",
    "df_new.shape"
   ]
  },
  {
   "cell_type": "markdown",
   "id": "ab95c974-651e-46c8-8725-4e0ad714fda8",
   "metadata": {},
   "source": [
    "#### Checking the split of control & experiment groups"
   ]
  },
  {
   "cell_type": "code",
   "execution_count": 101,
   "id": "18a22b72-a7fd-4fd5-b72f-3196a6f81da3",
   "metadata": {},
   "outputs": [
    {
     "data": {
      "text/plain": [
       "Test       168532\n",
       "Control    151586\n",
       "Name: AB_TEST, dtype: int64"
      ]
     },
     "execution_count": 101,
     "metadata": {},
     "output_type": "execute_result"
    }
   ],
   "source": [
    "df_new['AB_TEST'].value_counts()"
   ]
  },
  {
   "cell_type": "markdown",
   "id": "6986c836-3845-46b3-8872-712707e45172",
   "metadata": {},
   "source": [
    "#### Aggregating Impressions & Clicks"
   ]
  },
  {
   "cell_type": "code",
   "execution_count": 102,
   "id": "2d4ff884-1711-404e-83a9-bd844037c82d",
   "metadata": {},
   "outputs": [],
   "source": [
    "## Define New Variables\n",
    "df_new['Total_Ads_Imp']=df_new['ADS_IMPRESSION_TOPNEWS_COUNT']+df_new['ADS_IMPRESSION_MYNEWS_COUNT']\n",
    "df_new['Total_News_Imp']=df_new['TOPNEWS_IMPRESSION_COUNT']+df_new['MYNEWS_COUNT']\n",
    "df_new['Total_Ads_Clicked']=df_new['ADS_CLICKED_TOPNEWS_COUNT']+df_new['ADS_CLICKED_MYNEWS_COUNT']\n",
    "df_new['Total_News_Clicked']=df_new['TOPNEWS_CLICKED_COUNT']+df_new['ARTICLE_MYNEWS_CLICKED_COUNT']"
   ]
  },
  {
   "cell_type": "code",
   "execution_count": 103,
   "id": "119371aa-388e-4615-b2a2-e19e27d38957",
   "metadata": {},
   "outputs": [
    {
     "data": {
      "text/html": [
       "<div>\n",
       "<style scoped>\n",
       "    .dataframe tbody tr th:only-of-type {\n",
       "        vertical-align: middle;\n",
       "    }\n",
       "\n",
       "    .dataframe tbody tr th {\n",
       "        vertical-align: top;\n",
       "    }\n",
       "\n",
       "    .dataframe thead th {\n",
       "        text-align: right;\n",
       "    }\n",
       "</style>\n",
       "<table border=\"1\" class=\"dataframe\">\n",
       "  <thead>\n",
       "    <tr style=\"text-align: right;\">\n",
       "      <th></th>\n",
       "      <th>count</th>\n",
       "      <th>mean</th>\n",
       "      <th>std</th>\n",
       "      <th>min</th>\n",
       "      <th>25%</th>\n",
       "      <th>50%</th>\n",
       "      <th>75%</th>\n",
       "      <th>max</th>\n",
       "    </tr>\n",
       "  </thead>\n",
       "  <tbody>\n",
       "    <tr>\n",
       "      <th>TOPNEWS_IMPRESSION_COUNT</th>\n",
       "      <td>320118.0</td>\n",
       "      <td>24.777638</td>\n",
       "      <td>64.568742</td>\n",
       "      <td>0.0</td>\n",
       "      <td>0.0</td>\n",
       "      <td>5.0</td>\n",
       "      <td>21.0</td>\n",
       "      <td>6307.0</td>\n",
       "    </tr>\n",
       "    <tr>\n",
       "      <th>TOPNEWS_CLICKED_COUNT</th>\n",
       "      <td>320118.0</td>\n",
       "      <td>2.204340</td>\n",
       "      <td>5.991379</td>\n",
       "      <td>0.0</td>\n",
       "      <td>0.0</td>\n",
       "      <td>0.0</td>\n",
       "      <td>2.0</td>\n",
       "      <td>293.0</td>\n",
       "    </tr>\n",
       "    <tr>\n",
       "      <th>ADS_IMPRESSION_TOPNEWS_COUNT</th>\n",
       "      <td>320118.0</td>\n",
       "      <td>4.094649</td>\n",
       "      <td>12.468467</td>\n",
       "      <td>0.0</td>\n",
       "      <td>0.0</td>\n",
       "      <td>0.0</td>\n",
       "      <td>3.0</td>\n",
       "      <td>371.0</td>\n",
       "    </tr>\n",
       "    <tr>\n",
       "      <th>ADS_CLICKED_TOPNEWS_COUNT</th>\n",
       "      <td>320118.0</td>\n",
       "      <td>0.043368</td>\n",
       "      <td>0.358782</td>\n",
       "      <td>0.0</td>\n",
       "      <td>0.0</td>\n",
       "      <td>0.0</td>\n",
       "      <td>0.0</td>\n",
       "      <td>22.0</td>\n",
       "    </tr>\n",
       "    <tr>\n",
       "      <th>MYNEWS_COUNT</th>\n",
       "      <td>320118.0</td>\n",
       "      <td>25.691470</td>\n",
       "      <td>215.441378</td>\n",
       "      <td>0.0</td>\n",
       "      <td>0.0</td>\n",
       "      <td>0.0</td>\n",
       "      <td>1.0</td>\n",
       "      <td>22126.0</td>\n",
       "    </tr>\n",
       "    <tr>\n",
       "      <th>ARTICLE_MYNEWS_CLICKED_COUNT</th>\n",
       "      <td>320118.0</td>\n",
       "      <td>1.308102</td>\n",
       "      <td>7.934788</td>\n",
       "      <td>0.0</td>\n",
       "      <td>0.0</td>\n",
       "      <td>0.0</td>\n",
       "      <td>0.0</td>\n",
       "      <td>535.0</td>\n",
       "    </tr>\n",
       "    <tr>\n",
       "      <th>ADS_IMPRESSION_MYNEWS_COUNT</th>\n",
       "      <td>320118.0</td>\n",
       "      <td>3.056298</td>\n",
       "      <td>25.896082</td>\n",
       "      <td>0.0</td>\n",
       "      <td>0.0</td>\n",
       "      <td>0.0</td>\n",
       "      <td>0.0</td>\n",
       "      <td>2027.0</td>\n",
       "    </tr>\n",
       "    <tr>\n",
       "      <th>ADS_CLICKED_MYNEWS_COUNT</th>\n",
       "      <td>320118.0</td>\n",
       "      <td>0.019371</td>\n",
       "      <td>0.334934</td>\n",
       "      <td>0.0</td>\n",
       "      <td>0.0</td>\n",
       "      <td>0.0</td>\n",
       "      <td>0.0</td>\n",
       "      <td>106.0</td>\n",
       "    </tr>\n",
       "    <tr>\n",
       "      <th>Total_Ads_Imp</th>\n",
       "      <td>320118.0</td>\n",
       "      <td>7.150947</td>\n",
       "      <td>33.828390</td>\n",
       "      <td>0.0</td>\n",
       "      <td>0.0</td>\n",
       "      <td>0.0</td>\n",
       "      <td>3.0</td>\n",
       "      <td>2028.0</td>\n",
       "    </tr>\n",
       "    <tr>\n",
       "      <th>Total_News_Imp</th>\n",
       "      <td>320118.0</td>\n",
       "      <td>50.469108</td>\n",
       "      <td>249.185918</td>\n",
       "      <td>0.0</td>\n",
       "      <td>0.0</td>\n",
       "      <td>5.0</td>\n",
       "      <td>26.0</td>\n",
       "      <td>23003.0</td>\n",
       "    </tr>\n",
       "    <tr>\n",
       "      <th>Total_Ads_Clicked</th>\n",
       "      <td>320118.0</td>\n",
       "      <td>0.062739</td>\n",
       "      <td>0.540312</td>\n",
       "      <td>0.0</td>\n",
       "      <td>0.0</td>\n",
       "      <td>0.0</td>\n",
       "      <td>0.0</td>\n",
       "      <td>108.0</td>\n",
       "    </tr>\n",
       "    <tr>\n",
       "      <th>Total_News_Clicked</th>\n",
       "      <td>320118.0</td>\n",
       "      <td>3.512442</td>\n",
       "      <td>11.683594</td>\n",
       "      <td>0.0</td>\n",
       "      <td>0.0</td>\n",
       "      <td>0.0</td>\n",
       "      <td>3.0</td>\n",
       "      <td>729.0</td>\n",
       "    </tr>\n",
       "  </tbody>\n",
       "</table>\n",
       "</div>"
      ],
      "text/plain": [
       "                                 count       mean         std  min  25%  50%  \\\n",
       "TOPNEWS_IMPRESSION_COUNT      320118.0  24.777638   64.568742  0.0  0.0  5.0   \n",
       "TOPNEWS_CLICKED_COUNT         320118.0   2.204340    5.991379  0.0  0.0  0.0   \n",
       "ADS_IMPRESSION_TOPNEWS_COUNT  320118.0   4.094649   12.468467  0.0  0.0  0.0   \n",
       "ADS_CLICKED_TOPNEWS_COUNT     320118.0   0.043368    0.358782  0.0  0.0  0.0   \n",
       "MYNEWS_COUNT                  320118.0  25.691470  215.441378  0.0  0.0  0.0   \n",
       "ARTICLE_MYNEWS_CLICKED_COUNT  320118.0   1.308102    7.934788  0.0  0.0  0.0   \n",
       "ADS_IMPRESSION_MYNEWS_COUNT   320118.0   3.056298   25.896082  0.0  0.0  0.0   \n",
       "ADS_CLICKED_MYNEWS_COUNT      320118.0   0.019371    0.334934  0.0  0.0  0.0   \n",
       "Total_Ads_Imp                 320118.0   7.150947   33.828390  0.0  0.0  0.0   \n",
       "Total_News_Imp                320118.0  50.469108  249.185918  0.0  0.0  5.0   \n",
       "Total_Ads_Clicked             320118.0   0.062739    0.540312  0.0  0.0  0.0   \n",
       "Total_News_Clicked            320118.0   3.512442   11.683594  0.0  0.0  0.0   \n",
       "\n",
       "                               75%      max  \n",
       "TOPNEWS_IMPRESSION_COUNT      21.0   6307.0  \n",
       "TOPNEWS_CLICKED_COUNT          2.0    293.0  \n",
       "ADS_IMPRESSION_TOPNEWS_COUNT   3.0    371.0  \n",
       "ADS_CLICKED_TOPNEWS_COUNT      0.0     22.0  \n",
       "MYNEWS_COUNT                   1.0  22126.0  \n",
       "ARTICLE_MYNEWS_CLICKED_COUNT   0.0    535.0  \n",
       "ADS_IMPRESSION_MYNEWS_COUNT    0.0   2027.0  \n",
       "ADS_CLICKED_MYNEWS_COUNT       0.0    106.0  \n",
       "Total_Ads_Imp                  3.0   2028.0  \n",
       "Total_News_Imp                26.0  23003.0  \n",
       "Total_Ads_Clicked              0.0    108.0  \n",
       "Total_News_Clicked             3.0    729.0  "
      ]
     },
     "execution_count": 103,
     "metadata": {},
     "output_type": "execute_result"
    }
   ],
   "source": [
    "pd.DataFrame(df_new.describe()).T"
   ]
  },
  {
   "cell_type": "markdown",
   "id": "44c0b06b-053a-4586-8f5c-e44aec8eceef",
   "metadata": {},
   "source": [
    "##### The 25th percentile of all columns are 0. \n",
    "##### This suggests that the sample population that were a part of the experiment were not active users of the app itself.\n",
    "##### Since the hypothesis is to identify change in UI experience, we can ignore people who have not opened the app at all.\n",
    "##### Including a sample population which have not opened the app will lead to a bias when we are analyzing UI experience.\n",
    "##### Removing outliers & samples with 0 impressions will provide an unbiased sample for analysis."
   ]
  },
  {
   "cell_type": "code",
   "execution_count": 247,
   "id": "e7ab1874-21a2-46ec-abe0-df4b15418449",
   "metadata": {},
   "outputs": [
    {
     "name": "stdout",
     "output_type": "stream",
     "text": [
      "Users With Zero Impressions: 85124 \n",
      "Percentage Of Total Data: 26.59 %\n"
     ]
    }
   ],
   "source": [
    "### Identifying sample size with zero overall impressions. \n",
    "zero_impressions = len(df_new[(df_new['Total_News_Imp']==0)&(df_new['Total_Ads_Imp']==0)])\n",
    "total_data_size = len(df_new)\n",
    "print(\"Users With Zero Impressions:\", zero_impressions, \"\\nPercentage Of Total Data:\", format((zero_impressions/total_data_size * 100),\".2f\"), \"%\")"
   ]
  },
  {
   "cell_type": "markdown",
   "id": "e97b0c1f-620f-4d12-a983-48ff19317d2e",
   "metadata": {},
   "source": [
    "#### Removing All Zero Impression Users"
   ]
  },
  {
   "cell_type": "code",
   "execution_count": 248,
   "id": "7fd4f5ee-f19f-424e-9231-f8caf334eb16",
   "metadata": {},
   "outputs": [
    {
     "data": {
      "text/plain": [
       "(234994, 14)"
      ]
     },
     "execution_count": 248,
     "metadata": {},
     "output_type": "execute_result"
    }
   ],
   "source": [
    "df_valid = df_new[~((df_new['Total_News_Imp']==0)&(df_new['Total_Ads_Imp']==0))]\n",
    "df_valid.shape"
   ]
  },
  {
   "cell_type": "code",
   "execution_count": 251,
   "id": "f4c736a9-d476-4a38-9cb4-d39f2b7db9f7",
   "metadata": {},
   "outputs": [
    {
     "data": {
      "text/plain": [
       "(96828, 14)"
      ]
     },
     "execution_count": 251,
     "metadata": {},
     "output_type": "execute_result"
    }
   ],
   "source": [
    "### Evaluating the size of Zero Total_Ads_Impressions\n",
    "df_valid[df_valid['Total_Ads_Imp']==0].shape"
   ]
  },
  {
   "cell_type": "code",
   "execution_count": 252,
   "id": "0b99c593-8244-42c1-8e2f-106d2fe35ad2",
   "metadata": {},
   "outputs": [],
   "source": [
    "df_test = df_valid[df_valid['AB_TEST']=='Test']\n",
    "df_control = df_valid[df_valid['AB_TEST']=='Control']"
   ]
  },
  {
   "cell_type": "code",
   "execution_count": 253,
   "id": "2aa1ced9-a5f6-4721-830f-9af829ff8b17",
   "metadata": {},
   "outputs": [
    {
     "data": {
      "text/plain": [
       "(120800, 14)"
      ]
     },
     "execution_count": 253,
     "metadata": {},
     "output_type": "execute_result"
    }
   ],
   "source": [
    "df_test.shape"
   ]
  },
  {
   "cell_type": "markdown",
   "id": "436a39d8-64d0-49b2-8ebe-77e17e3f2a0b",
   "metadata": {},
   "source": [
    "##### Test Group"
   ]
  },
  {
   "cell_type": "code",
   "execution_count": 254,
   "id": "0b8812bf-97be-4472-bffe-9bd724fffc1b",
   "metadata": {},
   "outputs": [
    {
     "data": {
      "text/html": [
       "<div>\n",
       "<style scoped>\n",
       "    .dataframe tbody tr th:only-of-type {\n",
       "        vertical-align: middle;\n",
       "    }\n",
       "\n",
       "    .dataframe tbody tr th {\n",
       "        vertical-align: top;\n",
       "    }\n",
       "\n",
       "    .dataframe thead th {\n",
       "        text-align: right;\n",
       "    }\n",
       "</style>\n",
       "<table border=\"1\" class=\"dataframe\">\n",
       "  <thead>\n",
       "    <tr style=\"text-align: right;\">\n",
       "      <th></th>\n",
       "      <th>count</th>\n",
       "      <th>mean</th>\n",
       "      <th>std</th>\n",
       "      <th>min</th>\n",
       "      <th>25%</th>\n",
       "      <th>50%</th>\n",
       "      <th>75%</th>\n",
       "      <th>max</th>\n",
       "    </tr>\n",
       "  </thead>\n",
       "  <tbody>\n",
       "    <tr>\n",
       "      <th>TOPNEWS_IMPRESSION_COUNT</th>\n",
       "      <td>120800.0</td>\n",
       "      <td>32.742334</td>\n",
       "      <td>72.739398</td>\n",
       "      <td>0.0</td>\n",
       "      <td>3.0</td>\n",
       "      <td>11.0</td>\n",
       "      <td>30.0</td>\n",
       "      <td>6307.0</td>\n",
       "    </tr>\n",
       "    <tr>\n",
       "      <th>TOPNEWS_CLICKED_COUNT</th>\n",
       "      <td>120800.0</td>\n",
       "      <td>3.036904</td>\n",
       "      <td>7.203524</td>\n",
       "      <td>0.0</td>\n",
       "      <td>0.0</td>\n",
       "      <td>1.0</td>\n",
       "      <td>3.0</td>\n",
       "      <td>249.0</td>\n",
       "    </tr>\n",
       "    <tr>\n",
       "      <th>ADS_IMPRESSION_TOPNEWS_COUNT</th>\n",
       "      <td>120800.0</td>\n",
       "      <td>5.052161</td>\n",
       "      <td>13.642765</td>\n",
       "      <td>0.0</td>\n",
       "      <td>0.0</td>\n",
       "      <td>1.0</td>\n",
       "      <td>4.0</td>\n",
       "      <td>368.0</td>\n",
       "    </tr>\n",
       "    <tr>\n",
       "      <th>ADS_CLICKED_TOPNEWS_COUNT</th>\n",
       "      <td>120800.0</td>\n",
       "      <td>0.050224</td>\n",
       "      <td>0.380511</td>\n",
       "      <td>0.0</td>\n",
       "      <td>0.0</td>\n",
       "      <td>0.0</td>\n",
       "      <td>0.0</td>\n",
       "      <td>22.0</td>\n",
       "    </tr>\n",
       "    <tr>\n",
       "      <th>MYNEWS_COUNT</th>\n",
       "      <td>120800.0</td>\n",
       "      <td>28.321498</td>\n",
       "      <td>229.315858</td>\n",
       "      <td>0.0</td>\n",
       "      <td>0.0</td>\n",
       "      <td>0.0</td>\n",
       "      <td>2.0</td>\n",
       "      <td>18792.0</td>\n",
       "    </tr>\n",
       "    <tr>\n",
       "      <th>ARTICLE_MYNEWS_CLICKED_COUNT</th>\n",
       "      <td>120800.0</td>\n",
       "      <td>1.404180</td>\n",
       "      <td>8.504191</td>\n",
       "      <td>0.0</td>\n",
       "      <td>0.0</td>\n",
       "      <td>0.0</td>\n",
       "      <td>0.0</td>\n",
       "      <td>535.0</td>\n",
       "    </tr>\n",
       "    <tr>\n",
       "      <th>ADS_IMPRESSION_MYNEWS_COUNT</th>\n",
       "      <td>120800.0</td>\n",
       "      <td>2.534371</td>\n",
       "      <td>25.779682</td>\n",
       "      <td>0.0</td>\n",
       "      <td>0.0</td>\n",
       "      <td>0.0</td>\n",
       "      <td>0.0</td>\n",
       "      <td>2027.0</td>\n",
       "    </tr>\n",
       "    <tr>\n",
       "      <th>ADS_CLICKED_MYNEWS_COUNT</th>\n",
       "      <td>120800.0</td>\n",
       "      <td>0.011937</td>\n",
       "      <td>0.245031</td>\n",
       "      <td>0.0</td>\n",
       "      <td>0.0</td>\n",
       "      <td>0.0</td>\n",
       "      <td>0.0</td>\n",
       "      <td>40.0</td>\n",
       "    </tr>\n",
       "    <tr>\n",
       "      <th>Total_Ads_Imp</th>\n",
       "      <td>120800.0</td>\n",
       "      <td>7.586531</td>\n",
       "      <td>33.426998</td>\n",
       "      <td>0.0</td>\n",
       "      <td>0.0</td>\n",
       "      <td>1.0</td>\n",
       "      <td>5.0</td>\n",
       "      <td>2028.0</td>\n",
       "    </tr>\n",
       "    <tr>\n",
       "      <th>Total_News_Imp</th>\n",
       "      <td>120800.0</td>\n",
       "      <td>61.063833</td>\n",
       "      <td>263.674918</td>\n",
       "      <td>0.0</td>\n",
       "      <td>4.0</td>\n",
       "      <td>13.0</td>\n",
       "      <td>39.0</td>\n",
       "      <td>18890.0</td>\n",
       "    </tr>\n",
       "    <tr>\n",
       "      <th>Total_Ads_Clicked</th>\n",
       "      <td>120800.0</td>\n",
       "      <td>0.062161</td>\n",
       "      <td>0.488379</td>\n",
       "      <td>0.0</td>\n",
       "      <td>0.0</td>\n",
       "      <td>0.0</td>\n",
       "      <td>0.0</td>\n",
       "      <td>50.0</td>\n",
       "    </tr>\n",
       "    <tr>\n",
       "      <th>Total_News_Clicked</th>\n",
       "      <td>120800.0</td>\n",
       "      <td>4.441084</td>\n",
       "      <td>12.899031</td>\n",
       "      <td>0.0</td>\n",
       "      <td>0.0</td>\n",
       "      <td>1.0</td>\n",
       "      <td>4.0</td>\n",
       "      <td>618.0</td>\n",
       "    </tr>\n",
       "  </tbody>\n",
       "</table>\n",
       "</div>"
      ],
      "text/plain": [
       "                                 count       mean         std  min  25%   50%  \\\n",
       "TOPNEWS_IMPRESSION_COUNT      120800.0  32.742334   72.739398  0.0  3.0  11.0   \n",
       "TOPNEWS_CLICKED_COUNT         120800.0   3.036904    7.203524  0.0  0.0   1.0   \n",
       "ADS_IMPRESSION_TOPNEWS_COUNT  120800.0   5.052161   13.642765  0.0  0.0   1.0   \n",
       "ADS_CLICKED_TOPNEWS_COUNT     120800.0   0.050224    0.380511  0.0  0.0   0.0   \n",
       "MYNEWS_COUNT                  120800.0  28.321498  229.315858  0.0  0.0   0.0   \n",
       "ARTICLE_MYNEWS_CLICKED_COUNT  120800.0   1.404180    8.504191  0.0  0.0   0.0   \n",
       "ADS_IMPRESSION_MYNEWS_COUNT   120800.0   2.534371   25.779682  0.0  0.0   0.0   \n",
       "ADS_CLICKED_MYNEWS_COUNT      120800.0   0.011937    0.245031  0.0  0.0   0.0   \n",
       "Total_Ads_Imp                 120800.0   7.586531   33.426998  0.0  0.0   1.0   \n",
       "Total_News_Imp                120800.0  61.063833  263.674918  0.0  4.0  13.0   \n",
       "Total_Ads_Clicked             120800.0   0.062161    0.488379  0.0  0.0   0.0   \n",
       "Total_News_Clicked            120800.0   4.441084   12.899031  0.0  0.0   1.0   \n",
       "\n",
       "                               75%      max  \n",
       "TOPNEWS_IMPRESSION_COUNT      30.0   6307.0  \n",
       "TOPNEWS_CLICKED_COUNT          3.0    249.0  \n",
       "ADS_IMPRESSION_TOPNEWS_COUNT   4.0    368.0  \n",
       "ADS_CLICKED_TOPNEWS_COUNT      0.0     22.0  \n",
       "MYNEWS_COUNT                   2.0  18792.0  \n",
       "ARTICLE_MYNEWS_CLICKED_COUNT   0.0    535.0  \n",
       "ADS_IMPRESSION_MYNEWS_COUNT    0.0   2027.0  \n",
       "ADS_CLICKED_MYNEWS_COUNT       0.0     40.0  \n",
       "Total_Ads_Imp                  5.0   2028.0  \n",
       "Total_News_Imp                39.0  18890.0  \n",
       "Total_Ads_Clicked              0.0     50.0  \n",
       "Total_News_Clicked             4.0    618.0  "
      ]
     },
     "execution_count": 254,
     "metadata": {},
     "output_type": "execute_result"
    }
   ],
   "source": [
    "pd.DataFrame(df_test.describe()).T"
   ]
  },
  {
   "cell_type": "markdown",
   "id": "f7a54f18-7af5-478c-94a7-6852167c06ae",
   "metadata": {},
   "source": [
    "##### Control Group"
   ]
  },
  {
   "cell_type": "code",
   "execution_count": 255,
   "id": "37b03f87-c6a3-40f4-af6e-2bd6035180c6",
   "metadata": {},
   "outputs": [
    {
     "data": {
      "text/html": [
       "<div>\n",
       "<style scoped>\n",
       "    .dataframe tbody tr th:only-of-type {\n",
       "        vertical-align: middle;\n",
       "    }\n",
       "\n",
       "    .dataframe tbody tr th {\n",
       "        vertical-align: top;\n",
       "    }\n",
       "\n",
       "    .dataframe thead th {\n",
       "        text-align: right;\n",
       "    }\n",
       "</style>\n",
       "<table border=\"1\" class=\"dataframe\">\n",
       "  <thead>\n",
       "    <tr style=\"text-align: right;\">\n",
       "      <th></th>\n",
       "      <th>count</th>\n",
       "      <th>mean</th>\n",
       "      <th>std</th>\n",
       "      <th>min</th>\n",
       "      <th>25%</th>\n",
       "      <th>50%</th>\n",
       "      <th>75%</th>\n",
       "      <th>max</th>\n",
       "    </tr>\n",
       "  </thead>\n",
       "  <tbody>\n",
       "    <tr>\n",
       "      <th>TOPNEWS_IMPRESSION_COUNT</th>\n",
       "      <td>114194.0</td>\n",
       "      <td>34.822267</td>\n",
       "      <td>73.922519</td>\n",
       "      <td>0.0</td>\n",
       "      <td>3.0</td>\n",
       "      <td>11.0</td>\n",
       "      <td>32.0</td>\n",
       "      <td>1940.0</td>\n",
       "    </tr>\n",
       "    <tr>\n",
       "      <th>TOPNEWS_CLICKED_COUNT</th>\n",
       "      <td>114194.0</td>\n",
       "      <td>2.930495</td>\n",
       "      <td>6.379948</td>\n",
       "      <td>0.0</td>\n",
       "      <td>0.0</td>\n",
       "      <td>1.0</td>\n",
       "      <td>3.0</td>\n",
       "      <td>293.0</td>\n",
       "    </tr>\n",
       "    <tr>\n",
       "      <th>ADS_IMPRESSION_TOPNEWS_COUNT</th>\n",
       "      <td>114194.0</td>\n",
       "      <td>6.134035</td>\n",
       "      <td>14.875777</td>\n",
       "      <td>0.0</td>\n",
       "      <td>0.0</td>\n",
       "      <td>1.0</td>\n",
       "      <td>5.0</td>\n",
       "      <td>371.0</td>\n",
       "    </tr>\n",
       "    <tr>\n",
       "      <th>ADS_CLICKED_TOPNEWS_COUNT</th>\n",
       "      <td>114194.0</td>\n",
       "      <td>0.068445</td>\n",
       "      <td>0.453441</td>\n",
       "      <td>0.0</td>\n",
       "      <td>0.0</td>\n",
       "      <td>0.0</td>\n",
       "      <td>0.0</td>\n",
       "      <td>22.0</td>\n",
       "    </tr>\n",
       "    <tr>\n",
       "      <th>MYNEWS_COUNT</th>\n",
       "      <td>114194.0</td>\n",
       "      <td>42.060572</td>\n",
       "      <td>271.514131</td>\n",
       "      <td>0.0</td>\n",
       "      <td>0.0</td>\n",
       "      <td>0.0</td>\n",
       "      <td>8.0</td>\n",
       "      <td>22126.0</td>\n",
       "    </tr>\n",
       "    <tr>\n",
       "      <th>ARTICLE_MYNEWS_CLICKED_COUNT</th>\n",
       "      <td>114194.0</td>\n",
       "      <td>2.181542</td>\n",
       "      <td>9.896710</td>\n",
       "      <td>0.0</td>\n",
       "      <td>0.0</td>\n",
       "      <td>0.0</td>\n",
       "      <td>1.0</td>\n",
       "      <td>500.0</td>\n",
       "    </tr>\n",
       "    <tr>\n",
       "      <th>ADS_IMPRESSION_MYNEWS_COUNT</th>\n",
       "      <td>114194.0</td>\n",
       "      <td>5.886684</td>\n",
       "      <td>34.082411</td>\n",
       "      <td>0.0</td>\n",
       "      <td>0.0</td>\n",
       "      <td>0.0</td>\n",
       "      <td>1.0</td>\n",
       "      <td>1747.0</td>\n",
       "    </tr>\n",
       "    <tr>\n",
       "      <th>ADS_CLICKED_MYNEWS_COUNT</th>\n",
       "      <td>114194.0</td>\n",
       "      <td>0.041675</td>\n",
       "      <td>0.500126</td>\n",
       "      <td>0.0</td>\n",
       "      <td>0.0</td>\n",
       "      <td>0.0</td>\n",
       "      <td>0.0</td>\n",
       "      <td>106.0</td>\n",
       "    </tr>\n",
       "    <tr>\n",
       "      <th>Total_Ads_Imp</th>\n",
       "      <td>114194.0</td>\n",
       "      <td>12.020719</td>\n",
       "      <td>44.316414</td>\n",
       "      <td>0.0</td>\n",
       "      <td>0.0</td>\n",
       "      <td>1.0</td>\n",
       "      <td>7.0</td>\n",
       "      <td>1854.0</td>\n",
       "    </tr>\n",
       "    <tr>\n",
       "      <th>Total_News_Imp</th>\n",
       "      <td>114194.0</td>\n",
       "      <td>76.882840</td>\n",
       "      <td>312.738454</td>\n",
       "      <td>0.0</td>\n",
       "      <td>4.0</td>\n",
       "      <td>12.0</td>\n",
       "      <td>46.0</td>\n",
       "      <td>23003.0</td>\n",
       "    </tr>\n",
       "    <tr>\n",
       "      <th>Total_Ads_Clicked</th>\n",
       "      <td>114194.0</td>\n",
       "      <td>0.110120</td>\n",
       "      <td>0.748929</td>\n",
       "      <td>0.0</td>\n",
       "      <td>0.0</td>\n",
       "      <td>0.0</td>\n",
       "      <td>0.0</td>\n",
       "      <td>108.0</td>\n",
       "    </tr>\n",
       "    <tr>\n",
       "      <th>Total_News_Clicked</th>\n",
       "      <td>114194.0</td>\n",
       "      <td>5.112037</td>\n",
       "      <td>13.926066</td>\n",
       "      <td>0.0</td>\n",
       "      <td>0.0</td>\n",
       "      <td>1.0</td>\n",
       "      <td>4.0</td>\n",
       "      <td>729.0</td>\n",
       "    </tr>\n",
       "  </tbody>\n",
       "</table>\n",
       "</div>"
      ],
      "text/plain": [
       "                                 count       mean         std  min  25%   50%  \\\n",
       "TOPNEWS_IMPRESSION_COUNT      114194.0  34.822267   73.922519  0.0  3.0  11.0   \n",
       "TOPNEWS_CLICKED_COUNT         114194.0   2.930495    6.379948  0.0  0.0   1.0   \n",
       "ADS_IMPRESSION_TOPNEWS_COUNT  114194.0   6.134035   14.875777  0.0  0.0   1.0   \n",
       "ADS_CLICKED_TOPNEWS_COUNT     114194.0   0.068445    0.453441  0.0  0.0   0.0   \n",
       "MYNEWS_COUNT                  114194.0  42.060572  271.514131  0.0  0.0   0.0   \n",
       "ARTICLE_MYNEWS_CLICKED_COUNT  114194.0   2.181542    9.896710  0.0  0.0   0.0   \n",
       "ADS_IMPRESSION_MYNEWS_COUNT   114194.0   5.886684   34.082411  0.0  0.0   0.0   \n",
       "ADS_CLICKED_MYNEWS_COUNT      114194.0   0.041675    0.500126  0.0  0.0   0.0   \n",
       "Total_Ads_Imp                 114194.0  12.020719   44.316414  0.0  0.0   1.0   \n",
       "Total_News_Imp                114194.0  76.882840  312.738454  0.0  4.0  12.0   \n",
       "Total_Ads_Clicked             114194.0   0.110120    0.748929  0.0  0.0   0.0   \n",
       "Total_News_Clicked            114194.0   5.112037   13.926066  0.0  0.0   1.0   \n",
       "\n",
       "                               75%      max  \n",
       "TOPNEWS_IMPRESSION_COUNT      32.0   1940.0  \n",
       "TOPNEWS_CLICKED_COUNT          3.0    293.0  \n",
       "ADS_IMPRESSION_TOPNEWS_COUNT   5.0    371.0  \n",
       "ADS_CLICKED_TOPNEWS_COUNT      0.0     22.0  \n",
       "MYNEWS_COUNT                   8.0  22126.0  \n",
       "ARTICLE_MYNEWS_CLICKED_COUNT   1.0    500.0  \n",
       "ADS_IMPRESSION_MYNEWS_COUNT    1.0   1747.0  \n",
       "ADS_CLICKED_MYNEWS_COUNT       0.0    106.0  \n",
       "Total_Ads_Imp                  7.0   1854.0  \n",
       "Total_News_Imp                46.0  23003.0  \n",
       "Total_Ads_Clicked              0.0    108.0  \n",
       "Total_News_Clicked             4.0    729.0  "
      ]
     },
     "execution_count": 255,
     "metadata": {},
     "output_type": "execute_result"
    }
   ],
   "source": [
    "pd.DataFrame(df_control.describe()).T"
   ]
  },
  {
   "cell_type": "markdown",
   "id": "091c9300-b5eb-471c-8a5a-f1d7df2b64fd",
   "metadata": {},
   "source": [
    "#### A significant diffference in mean, median, max values suggests, there are outliers in the data.\n",
    "#### Outlier Boundary = Q3 + 1.5 IQR\n",
    "#### We will cap all upward outliers at value of the outlier boundary."
   ]
  },
  {
   "cell_type": "code",
   "execution_count": 201,
   "id": "2e940383-4306-4946-a1ad-9214e5e34546",
   "metadata": {},
   "outputs": [],
   "source": [
    "def treat_outliers(df_sub:pd.DataFrame):\n",
    "    df_final=pd.DataFrame()\n",
    "    cols= ['TOPNEWS_IMPRESSION_COUNT', 'Total_Ads_Imp', 'Total_News_Imp', 'Total_Ads_Clicked', 'Total_News_Clicked']\n",
    "    for col in cols:\n",
    "        q1 = np.percentile(df_sub[col],25)\n",
    "        q3 = np.percentile(df_sub[col],75)\n",
    "        iqr = q3-q1\n",
    "        outlier_cap = q3 + (1.5*iqr)\n",
    "        df_final[col] = np.where(df_sub[col]>outlier_cap, outlier_cap, df_sub[col])\n",
    "    return df_final"
   ]
  },
  {
   "cell_type": "code",
   "execution_count": 202,
   "id": "1c5d2cea-a448-458c-9765-c2b40ef490c9",
   "metadata": {},
   "outputs": [],
   "source": [
    "clean_test = treat_outliers(df_test)\n",
    "clean_control = treat_outliers(df_control)"
   ]
  },
  {
   "cell_type": "code",
   "execution_count": 198,
   "id": "0e1e63ca-dfae-4eb5-af2e-77cc66a88afa",
   "metadata": {},
   "outputs": [],
   "source": [
    "### Adding a Success-Metric\n",
    "clean_test['Ads_Yes']=(clean_test['Total_Ads_Imp']>0).astype(int)\n",
    "clean_control['Ads_Yes']=(clean_control['Total_Ads_Imp']>0).astype(int)\n",
    "# clean_test.at[:,\"Group\"]=\"Test\"\n",
    "# clean_control.at[:,\"Group\"]=\"Control\"\n",
    "# df_clean = pd.concat([clean_test,clean_control])\n",
    "# df_clean.head(5)\n",
    "df_clean.to_csv('df_clean.csv', index=False)"
   ]
  },
  {
   "cell_type": "code",
   "execution_count": 203,
   "id": "02edfe3f-eaed-4748-a8ff-3fa573451cdf",
   "metadata": {},
   "outputs": [
    {
     "data": {
      "text/html": [
       "<div>\n",
       "<style scoped>\n",
       "    .dataframe tbody tr th:only-of-type {\n",
       "        vertical-align: middle;\n",
       "    }\n",
       "\n",
       "    .dataframe tbody tr th {\n",
       "        vertical-align: top;\n",
       "    }\n",
       "\n",
       "    .dataframe thead th {\n",
       "        text-align: right;\n",
       "    }\n",
       "</style>\n",
       "<table border=\"1\" class=\"dataframe\">\n",
       "  <thead>\n",
       "    <tr style=\"text-align: right;\">\n",
       "      <th></th>\n",
       "      <th>count</th>\n",
       "      <th>mean</th>\n",
       "      <th>std</th>\n",
       "      <th>min</th>\n",
       "      <th>25%</th>\n",
       "      <th>50%</th>\n",
       "      <th>75%</th>\n",
       "      <th>max</th>\n",
       "    </tr>\n",
       "  </thead>\n",
       "  <tbody>\n",
       "    <tr>\n",
       "      <th>TOPNEWS_IMPRESSION_COUNT</th>\n",
       "      <td>120800.0</td>\n",
       "      <td>20.866043</td>\n",
       "      <td>23.144631</td>\n",
       "      <td>0.0</td>\n",
       "      <td>3.0</td>\n",
       "      <td>11.0</td>\n",
       "      <td>30.0</td>\n",
       "      <td>70.5</td>\n",
       "    </tr>\n",
       "    <tr>\n",
       "      <th>Total_Ads_Imp</th>\n",
       "      <td>120800.0</td>\n",
       "      <td>3.117695</td>\n",
       "      <td>4.317144</td>\n",
       "      <td>0.0</td>\n",
       "      <td>0.0</td>\n",
       "      <td>1.0</td>\n",
       "      <td>5.0</td>\n",
       "      <td>12.5</td>\n",
       "    </tr>\n",
       "    <tr>\n",
       "      <th>Total_News_Imp</th>\n",
       "      <td>120800.0</td>\n",
       "      <td>26.988464</td>\n",
       "      <td>30.801633</td>\n",
       "      <td>0.0</td>\n",
       "      <td>4.0</td>\n",
       "      <td>13.0</td>\n",
       "      <td>39.0</td>\n",
       "      <td>91.5</td>\n",
       "    </tr>\n",
       "    <tr>\n",
       "      <th>Total_Ads_Clicked</th>\n",
       "      <td>120800.0</td>\n",
       "      <td>0.000000</td>\n",
       "      <td>0.000000</td>\n",
       "      <td>0.0</td>\n",
       "      <td>0.0</td>\n",
       "      <td>0.0</td>\n",
       "      <td>0.0</td>\n",
       "      <td>0.0</td>\n",
       "    </tr>\n",
       "    <tr>\n",
       "      <th>Total_News_Clicked</th>\n",
       "      <td>120800.0</td>\n",
       "      <td>2.570050</td>\n",
       "      <td>3.300685</td>\n",
       "      <td>0.0</td>\n",
       "      <td>0.0</td>\n",
       "      <td>1.0</td>\n",
       "      <td>4.0</td>\n",
       "      <td>10.0</td>\n",
       "    </tr>\n",
       "  </tbody>\n",
       "</table>\n",
       "</div>"
      ],
      "text/plain": [
       "                             count       mean        std  min  25%   50%  \\\n",
       "TOPNEWS_IMPRESSION_COUNT  120800.0  20.866043  23.144631  0.0  3.0  11.0   \n",
       "Total_Ads_Imp             120800.0   3.117695   4.317144  0.0  0.0   1.0   \n",
       "Total_News_Imp            120800.0  26.988464  30.801633  0.0  4.0  13.0   \n",
       "Total_Ads_Clicked         120800.0   0.000000   0.000000  0.0  0.0   0.0   \n",
       "Total_News_Clicked        120800.0   2.570050   3.300685  0.0  0.0   1.0   \n",
       "\n",
       "                           75%   max  \n",
       "TOPNEWS_IMPRESSION_COUNT  30.0  70.5  \n",
       "Total_Ads_Imp              5.0  12.5  \n",
       "Total_News_Imp            39.0  91.5  \n",
       "Total_Ads_Clicked          0.0   0.0  \n",
       "Total_News_Clicked         4.0  10.0  "
      ]
     },
     "execution_count": 203,
     "metadata": {},
     "output_type": "execute_result"
    }
   ],
   "source": [
    "pd.DataFrame(clean_test.describe()).T"
   ]
  },
  {
   "cell_type": "code",
   "execution_count": 204,
   "id": "f6c944b0-ad9d-4006-b380-9f8c7406f194",
   "metadata": {},
   "outputs": [
    {
     "data": {
      "text/html": [
       "<div>\n",
       "<style scoped>\n",
       "    .dataframe tbody tr th:only-of-type {\n",
       "        vertical-align: middle;\n",
       "    }\n",
       "\n",
       "    .dataframe tbody tr th {\n",
       "        vertical-align: top;\n",
       "    }\n",
       "\n",
       "    .dataframe thead th {\n",
       "        text-align: right;\n",
       "    }\n",
       "</style>\n",
       "<table border=\"1\" class=\"dataframe\">\n",
       "  <thead>\n",
       "    <tr style=\"text-align: right;\">\n",
       "      <th></th>\n",
       "      <th>count</th>\n",
       "      <th>mean</th>\n",
       "      <th>std</th>\n",
       "      <th>min</th>\n",
       "      <th>25%</th>\n",
       "      <th>50%</th>\n",
       "      <th>75%</th>\n",
       "      <th>max</th>\n",
       "    </tr>\n",
       "  </thead>\n",
       "  <tbody>\n",
       "    <tr>\n",
       "      <th>TOPNEWS_IMPRESSION_COUNT</th>\n",
       "      <td>114194.0</td>\n",
       "      <td>22.053015</td>\n",
       "      <td>25.060955</td>\n",
       "      <td>0.0</td>\n",
       "      <td>3.0</td>\n",
       "      <td>11.0</td>\n",
       "      <td>32.0</td>\n",
       "      <td>75.5</td>\n",
       "    </tr>\n",
       "    <tr>\n",
       "      <th>Total_Ads_Imp</th>\n",
       "      <td>114194.0</td>\n",
       "      <td>4.642656</td>\n",
       "      <td>6.270731</td>\n",
       "      <td>0.0</td>\n",
       "      <td>0.0</td>\n",
       "      <td>1.0</td>\n",
       "      <td>7.0</td>\n",
       "      <td>17.5</td>\n",
       "    </tr>\n",
       "    <tr>\n",
       "      <th>Total_News_Imp</th>\n",
       "      <td>114194.0</td>\n",
       "      <td>31.216649</td>\n",
       "      <td>37.692420</td>\n",
       "      <td>0.0</td>\n",
       "      <td>4.0</td>\n",
       "      <td>12.0</td>\n",
       "      <td>46.0</td>\n",
       "      <td>109.0</td>\n",
       "    </tr>\n",
       "    <tr>\n",
       "      <th>Total_Ads_Clicked</th>\n",
       "      <td>114194.0</td>\n",
       "      <td>0.000000</td>\n",
       "      <td>0.000000</td>\n",
       "      <td>0.0</td>\n",
       "      <td>0.0</td>\n",
       "      <td>0.0</td>\n",
       "      <td>0.0</td>\n",
       "      <td>0.0</td>\n",
       "    </tr>\n",
       "    <tr>\n",
       "      <th>Total_News_Clicked</th>\n",
       "      <td>114194.0</td>\n",
       "      <td>2.794043</td>\n",
       "      <td>3.467166</td>\n",
       "      <td>0.0</td>\n",
       "      <td>0.0</td>\n",
       "      <td>1.0</td>\n",
       "      <td>4.0</td>\n",
       "      <td>10.0</td>\n",
       "    </tr>\n",
       "  </tbody>\n",
       "</table>\n",
       "</div>"
      ],
      "text/plain": [
       "                             count       mean        std  min  25%   50%  \\\n",
       "TOPNEWS_IMPRESSION_COUNT  114194.0  22.053015  25.060955  0.0  3.0  11.0   \n",
       "Total_Ads_Imp             114194.0   4.642656   6.270731  0.0  0.0   1.0   \n",
       "Total_News_Imp            114194.0  31.216649  37.692420  0.0  4.0  12.0   \n",
       "Total_Ads_Clicked         114194.0   0.000000   0.000000  0.0  0.0   0.0   \n",
       "Total_News_Clicked        114194.0   2.794043   3.467166  0.0  0.0   1.0   \n",
       "\n",
       "                           75%    max  \n",
       "TOPNEWS_IMPRESSION_COUNT  32.0   75.5  \n",
       "Total_Ads_Imp              7.0   17.5  \n",
       "Total_News_Imp            46.0  109.0  \n",
       "Total_Ads_Clicked          0.0    0.0  \n",
       "Total_News_Clicked         4.0   10.0  "
      ]
     },
     "execution_count": 204,
     "metadata": {},
     "output_type": "execute_result"
    }
   ],
   "source": [
    "pd.DataFrame(clean_control.describe()).T"
   ]
  },
  {
   "cell_type": "markdown",
   "id": "aac56aca-68f1-4bb3-b479-719d86287bbd",
   "metadata": {},
   "source": [
    "#### The outliers have been removed and yet, mean is more than double the value of the median. This suggests that data is highly right-skewed.\n",
    "#### Also mean of control-group appear to be higher than that of the test group. \n",
    "#### The clicks are almost negligent, hence will proceed with analysing impressions alone.\n",
    "\n",
    "#### H0: The new UI did not make any significant improvement in the impressions.\n",
    "#### H1: The new UI improved the impression count"
   ]
  },
  {
   "cell_type": "code",
   "execution_count": 379,
   "id": "24cf1b30-0391-4de9-bb50-b1a08edb5167",
   "metadata": {},
   "outputs": [
    {
     "name": "stdout",
     "output_type": "stream",
     "text": [
      "Top-News Impressions\n",
      "\n",
      "Mean\n",
      "Control\t\tTest\n",
      " 22.053 \t 20.866\n",
      "\n",
      "Standard Deviation\n",
      "Control\t\tTest\n",
      " 25.061 \t 23.145\n",
      "\n",
      "Total-News Impressions\n",
      "\n",
      "Mean\n",
      "Control\t\tTest\n",
      " 31.217 \t 26.988\n",
      "\n",
      "Standard Deviation\n",
      "Control\t\tTest\n",
      " 37.692 \t 30.802\n",
      "\n",
      "Total Ad Impressions\n",
      "\n",
      "Mean\n",
      "Control\t\tTest\n",
      " 4.643 \t\t 3.118\n",
      "\n",
      "Standard Deviation\n",
      "Control\t\tTest\n",
      " 6.271 \t\t 4.317\n"
     ]
    }
   ],
   "source": [
    "## Checking the mean & standard-deviation of control & test population after clean-up\n",
    "print(\"Top-News Impressions\")\n",
    "print(\"\\nMean\\nControl\\t\\tTest\\n\",format(clean_control['TOPNEWS_IMPRESSION_COUNT'].mean(),\".3f\"),\"\\t\",format(clean_test['TOPNEWS_IMPRESSION_COUNT'].mean(),\".3f\"))\n",
    "print(\"\\nStandard Deviation\\nControl\\t\\tTest\\n\",format(clean_control['TOPNEWS_IMPRESSION_COUNT'].std(),\".3f\"),\"\\t\",format(clean_test['TOPNEWS_IMPRESSION_COUNT'].std(),\".3f\"))\n",
    "\n",
    "print(\"\\nTotal-News Impressions\")\n",
    "print(\"\\nMean\\nControl\\t\\tTest\\n\",format(clean_control['Total_News_Imp'].mean(),\".3f\"),\"\\t\",format(clean_test['Total_News_Imp'].mean(),\".3f\"))\n",
    "print(\"\\nStandard Deviation\\nControl\\t\\tTest\\n\",format(clean_control['Total_News_Imp'].std(),\".3f\"),\"\\t\",format(clean_test['Total_News_Imp'].std(),\".3f\"))\n",
    "\n",
    "print(\"\\nTotal Ad Impressions\")\n",
    "print(\"\\nMean\\nControl\\t\\tTest\\n\",format(clean_control['Total_Ads_Imp'].mean(),\".3f\"),\"\\t\\t\",format(clean_test['Total_Ads_Imp'].mean(),\".3f\"))\n",
    "print(\"\\nStandard Deviation\\nControl\\t\\tTest\\n\",format(clean_control['Total_Ads_Imp'].std(),\".3f\"),\"\\t\\t\",format(clean_test['Total_Ads_Imp'].std(),\".3f\"))"
   ]
  },
  {
   "cell_type": "code",
   "execution_count": 163,
   "id": "03631114-aabc-4e2f-9db2-ecfe354e27f5",
   "metadata": {},
   "outputs": [],
   "source": [
    "from scipy.stats import shapiro\n",
    "import scipy.stats as stats\n",
    "from scipy.stats import mannwhitneyu"
   ]
  },
  {
   "cell_type": "code",
   "execution_count": 413,
   "id": "5161fba4-f167-41ac-b98a-fa8db18521a8",
   "metadata": {},
   "outputs": [],
   "source": [
    "# Creating the sampling distribution of difference in means\n",
    "\n",
    "def stat_test(control,test,metric):\n",
    "    means_diff = []\n",
    "    wstats=[]\n",
    "    size = df.shape[0]\n",
    "    for _ in range(10000):  \n",
    "        test_sample = test.sample(1000, replace=False)\n",
    "        control_sample = control.sample(1000, replace=False)\n",
    "        control_mean = control_sample[metric].mean()\n",
    "        test_mean = test_sample[metric].mean()\n",
    "        w, p = sstats.ttest_ind(test_sample[metric],control_sample[metric], equal_var=False)\n",
    "        wstats.append(w)\n",
    "        means_diff.append(test_mean - control_mean)\n",
    "\n",
    "    print(\"Mean Of Test Group Better Than Control:\\n\",format((sum(np.array(means_diff)>0)/10000)*100,\".2f\"),\"%\")\n",
    "    print(\"W-Stats Indicating Test Group Is Better Than Control:\\n\",(sum(np.array(wstats)>1.645)/10000)*100,\"%\")\n",
    "    plt.figure(figsize = (8,4), dpi = 100)\n",
    "    plt.hist(means_diff, bins = 25)\n",
    "    plt.title(\"Histogram Of Difference In Means\")\n",
    "    plt.show()"
   ]
  },
  {
   "cell_type": "markdown",
   "id": "35bbf210-f022-4fe7-a88b-5dfde2b9b786",
   "metadata": {},
   "source": [
    "#### Probability Of Test Group Being Better Than Control Group"
   ]
  },
  {
   "cell_type": "code",
   "execution_count": 414,
   "id": "18eeab93-1bc2-4446-b6cb-a415e925c31a",
   "metadata": {},
   "outputs": [
    {
     "name": "stdout",
     "output_type": "stream",
     "text": [
      "Mean Of Test Group Better Than Control:\n",
      " 12.91 %\n",
      "W-Stats Indicating Test Group Is Better Than Control:\n",
      " 0.25 %\n"
     ]
    },
    {
     "data": {
      "image/png": "[encoded data removed]",
      "text/plain": [
       "<Figure size 800x400 with 1 Axes>"
      ]
     },
     "metadata": {
      "needs_background": "light"
     },
     "output_type": "display_data"
    }
   ],
   "source": [
    "stat_test(clean_control,clean_test,'TOPNEWS_IMPRESSION_COUNT')"
   ]
  },
  {
   "cell_type": "code",
   "execution_count": 415,
   "id": "bba4a8fd-f72f-48f8-8d1f-a45224da2ded",
   "metadata": {},
   "outputs": [
    {
     "name": "stdout",
     "output_type": "stream",
     "text": [
      "Mean Of Test Group Better Than Control:\n",
      " 0.23 %\n",
      "W-Stats Indicating Test Group Is Better Than Control:\n",
      " 0.0 %\n"
     ]
    },
    {
     "data": {
      "image/png": "[encoded data removed]",
      "text/plain": [
       "<Figure size 800x400 with 1 Axes>"
      ]
     },
     "metadata": {
      "needs_background": "light"
     },
     "output_type": "display_data"
    }
   ],
   "source": [
    "stat_test(clean_control,clean_test,'Total_News_Imp')"
   ]
  },
  {
   "cell_type": "code",
   "execution_count": 416,
   "id": "9a3ab592-ed0b-468d-8279-623b2dde29b1",
   "metadata": {},
   "outputs": [
    {
     "name": "stdout",
     "output_type": "stream",
     "text": [
      "Mean Of Test Group Better Than Control:\n",
      " 0.00 %\n",
      "W-Stats Indicating Test Group Is Better Than Control:\n",
      " 0.0 %\n"
     ]
    },
    {
     "data": {
      "image/png": "[encoded data removed]",
      "text/plain": [
       "<Figure size 800x400 with 1 Axes>"
      ]
     },
     "metadata": {
      "needs_background": "light"
     },
     "output_type": "display_data"
    }
   ],
   "source": [
    "stat_test(clean_control,clean_test,'Total_Ads_Imp')"
   ]
  },
  {
   "cell_type": "code",
   "execution_count": 417,
   "id": "7643e2e9-14ee-4757-be84-578dc0675dea",
   "metadata": {},
   "outputs": [
    {
     "name": "stdout",
     "output_type": "stream",
     "text": [
      "Mean Of Test Group Better Than Control:\n",
      " 0.80 %\n",
      "W-Stats Indicating Test Group Is Better Than Control:\n",
      " 0.0 %\n"
     ]
    },
    {
     "data": {
      "image/png": "[encoded data removed]",
      "text/plain": [
       "<Figure size 800x400 with 1 Axes>"
      ]
     },
     "metadata": {
      "needs_background": "light"
     },
     "output_type": "display_data"
    }
   ],
   "source": [
    "### Adding a Success-Metric\n",
    "clean_test['Ads_Yes']=(clean_test['Total_Ads_Imp']>0).astype(int)\n",
    "clean_control['Ads_Yes']=(clean_control['Total_Ads_Imp']>0).astype(int)\n",
    "\n",
    "stat_test(clean_control,clean_test,'Ads_Yes')"
   ]
  },
  {
   "cell_type": "markdown",
   "id": "50403dd2-36fc-422e-a003-f0dff1203252",
   "metadata": {},
   "source": [
    "### A/B Testing Of Success Metric"
   ]
  },
  {
   "cell_type": "code",
   "execution_count": 373,
   "id": "a3fd59eb-c38a-497e-9a0a-11ee5d7d0e7d",
   "metadata": {},
   "outputs": [
    {
     "data": {
      "text/html": [
       "<div>\n",
       "<style scoped>\n",
       "    .dataframe tbody tr th:only-of-type {\n",
       "        vertical-align: middle;\n",
       "    }\n",
       "\n",
       "    .dataframe tbody tr th {\n",
       "        vertical-align: top;\n",
       "    }\n",
       "\n",
       "    .dataframe thead th {\n",
       "        text-align: right;\n",
       "    }\n",
       "</style>\n",
       "<table border=\"1\" class=\"dataframe\">\n",
       "  <thead>\n",
       "    <tr style=\"text-align: right;\">\n",
       "      <th></th>\n",
       "      <th>TOPNEWS_IMPRESSION_COUNT</th>\n",
       "      <th>Total_Ads_Imp</th>\n",
       "      <th>Total_News_Imp</th>\n",
       "      <th>Total_Ads_Clicked</th>\n",
       "      <th>Total_News_Clicked</th>\n",
       "      <th>Ads_Yes</th>\n",
       "      <th>Group</th>\n",
       "    </tr>\n",
       "  </thead>\n",
       "  <tbody>\n",
       "    <tr>\n",
       "      <th>0</th>\n",
       "      <td>4.0</td>\n",
       "      <td>0.0</td>\n",
       "      <td>4.0</td>\n",
       "      <td>0.0</td>\n",
       "      <td>0.0</td>\n",
       "      <td>0</td>\n",
       "      <td>Test</td>\n",
       "    </tr>\n",
       "    <tr>\n",
       "      <th>1</th>\n",
       "      <td>70.5</td>\n",
       "      <td>0.0</td>\n",
       "      <td>91.5</td>\n",
       "      <td>0.0</td>\n",
       "      <td>10.0</td>\n",
       "      <td>0</td>\n",
       "      <td>Test</td>\n",
       "    </tr>\n",
       "  </tbody>\n",
       "</table>\n",
       "</div>"
      ],
      "text/plain": [
       "   TOPNEWS_IMPRESSION_COUNT  Total_Ads_Imp  Total_News_Imp  Total_Ads_Clicked  \\\n",
       "0                       4.0            0.0             4.0                0.0   \n",
       "1                      70.5            0.0            91.5                0.0   \n",
       "\n",
       "   Total_News_Clicked  Ads_Yes Group  \n",
       "0                 0.0        0  Test  \n",
       "1                10.0        0  Test  "
      ]
     },
     "execution_count": 373,
     "metadata": {},
     "output_type": "execute_result"
    }
   ],
   "source": [
    "## The median Ad-Impression in both control & test group is 0. \n",
    "## If a person has got atleast 1 Ad impression, it means he has browsed through news articles. \n",
    "## We need more users who have viewed an ad, than the same user viewing multiple ads. \n",
    "## So we take user-id count of people who have had atleast an Ad impression.\n",
    "\n",
    "clean_test.loc[:,\"Group\"]=\"Test\"\n",
    "clean_control.loc[:,\"Group\"]=\"Control\"\n",
    "ab_test = pd.concat([clean_test,clean_control])\n",
    "ab_test = ab_test.reset_index(drop=True)\n",
    "ab_test.head(2)"
   ]
  },
  {
   "cell_type": "code",
   "execution_count": 374,
   "id": "3907e01e-a88d-4c88-87d0-b378cd2e9eb1",
   "metadata": {},
   "outputs": [
    {
     "data": {
      "text/html": [
       "<style  type=\"text/css\" >\n",
       "</style><table id=\"T_ffbff_\" ><thead>    <tr>        <th class=\"blank level0\" ></th>        <th class=\"col_heading level0 col0\" >success_rate</th>        <th class=\"col_heading level0 col1\" >std_deviation</th>        <th class=\"col_heading level0 col2\" >std_error</th>    </tr>    <tr>        <th class=\"index_name level0\" >Group</th>        <th class=\"blank\" ></th>        <th class=\"blank\" ></th>        <th class=\"blank\" ></th>    </tr></thead><tbody>\n",
       "                <tr>\n",
       "                        <th id=\"T_ffbff_level0_row0\" class=\"row_heading level0 row0\" >Control</th>\n",
       "                        <td id=\"T_ffbff_row0_col0\" class=\"data row0 col0\" >0.615</td>\n",
       "                        <td id=\"T_ffbff_row0_col1\" class=\"data row0 col1\" >0.487</td>\n",
       "                        <td id=\"T_ffbff_row0_col2\" class=\"data row0 col2\" >0.001</td>\n",
       "            </tr>\n",
       "            <tr>\n",
       "                        <th id=\"T_ffbff_level0_row1\" class=\"row_heading level0 row1\" >Test</th>\n",
       "                        <td id=\"T_ffbff_row1_col0\" class=\"data row1 col0\" >0.562</td>\n",
       "                        <td id=\"T_ffbff_row1_col1\" class=\"data row1 col1\" >0.496</td>\n",
       "                        <td id=\"T_ffbff_row1_col2\" class=\"data row1 col2\" >0.001</td>\n",
       "            </tr>\n",
       "    </tbody></table>"
      ],
      "text/plain": [
       "<pandas.io.formats.style.Styler at 0x1fcd8c186c8>"
      ]
     },
     "execution_count": 374,
     "metadata": {},
     "output_type": "execute_result"
    }
   ],
   "source": [
    "conversion_rates = ab_test.groupby('Group')['Ads_Yes']\n",
    "\n",
    "std_p = lambda x: np.std(x, ddof=0)              # Std. deviation of the proportion\n",
    "se_p = lambda x: stats.sem(x, ddof=0)            # Std. error of the proportion (std / sqrt(n))\n",
    "\n",
    "conversion_rates = conversion_rates.agg([np.mean, std_p, se_p])\n",
    "conversion_rates.columns = ['success_rate', 'std_deviation', 'std_error']\n",
    "conversion_rates.style.format('{:.3f}')"
   ]
  },
  {
   "cell_type": "code",
   "execution_count": 375,
   "id": "c0aa3d1f-2d14-4f5f-bf8d-442ec27fda74",
   "metadata": {},
   "outputs": [
    {
     "name": "stdout",
     "output_type": "stream",
     "text": [
      "z statistic: 25.93\n",
      "p-value: 0.000\n",
      "ci 95% for control group: [0.612, 0.618]\n",
      "ci 95% for treatment group: [0.560, 0.565]\n"
     ]
    }
   ],
   "source": [
    "from statsmodels.stats.proportion import proportions_ztest, proportion_confint\n",
    "controls = clean_control['Ads_Yes']\n",
    "treatments = clean_test['Ads_Yes']\n",
    "num_ctrl = controls.count()\n",
    "num_treat = treatments.count()\n",
    "successes = [controls.sum(), treatments.sum()]\n",
    "tots = [num_ctrl, num_treat]\n",
    "\n",
    "z_stat, pval = proportions_ztest(successes, nobs=tots)\n",
    "(lower_con, lower_treat), (upper_con, upper_treat) = proportion_confint(successes, nobs=tots, alpha=0.05)\n",
    "\n",
    "print(f'z statistic: {z_stat:.2f}')\n",
    "print(f'p-value: {pval:.3f}')\n",
    "print(f'ci 95% for control group: [{lower_con:.3f}, {upper_con:.3f}]')\n",
    "print(f'ci 95% for treatment group: [{lower_treat:.3f}, {upper_treat:.3f}]')"
   ]
  },
  {
   "cell_type": "code",
   "execution_count": 376,
   "id": "86ee3c13-f266-48bf-9e9d-45b6a03df208",
   "metadata": {},
   "outputs": [
    {
     "name": "stdout",
     "output_type": "stream",
     "text": [
      "z statistic: 2.14\n",
      "p-value: 0.033\n",
      "ci 95% for control group: [0.585, 0.645]\n",
      "ci 95% for treatment group: [0.537, 0.599]\n"
     ]
    }
   ],
   "source": [
    "## Random Sample\n",
    "test_sample = clean_test.sample(1000, replace=False)\n",
    "control_sample = clean_control.sample(1000, replace=False)\n",
    "\n",
    "\n",
    "controls = control_sample['Ads_Yes']\n",
    "treatments = test_sample['Ads_Yes']\n",
    "num_ctrl = controls.count()\n",
    "num_treat = treatments.count()\n",
    "successes = [controls.sum(), treatments.sum()]\n",
    "tots = [num_ctrl, num_treat]\n",
    "\n",
    "z_stat, pval = proportions_ztest(successes, nobs=tots)\n",
    "(lower_con, lower_treat), (upper_con, upper_treat) = proportion_confint(successes, nobs=tots, alpha=0.05)\n",
    "\n",
    "print(f'z statistic: {z_stat:.2f}')\n",
    "print(f'p-value: {pval:.3f}')\n",
    "print(f'ci 95% for control group: [{lower_con:.3f}, {upper_con:.3f}]')\n",
    "print(f'ci 95% for treatment group: [{lower_treat:.3f}, {upper_treat:.3f}]')"
   ]
  },
  {
   "cell_type": "markdown",
   "id": "84146cfe-ffb6-4e05-95b7-fe4043792f6a",
   "metadata": {},
   "source": [
    "### Conclusion: \n",
    "##### At alpha value of 0.05, the z-critical value is 1.64. \n",
    "##### With a p-value < 0.05, the H0 that there is no change in metrics can be rejected.\n",
    "##### The z-statistics obtained is consistently higher than the critical value, implying there is strong evidence that control-group is better than treatment group."
   ]
  },
  {
   "cell_type": "code",
   "execution_count": 436,
   "id": "65915221-d750-4117-aae6-827011e99717",
   "metadata": {},
   "outputs": [
    {
     "name": "stdout",
     "output_type": "stream",
     "text": [
      "z statistic: -0.23\n",
      "p-value: 0.822\n",
      "ci 95% for control group: [0.523, 0.585]\n",
      "ci 95% for treatment group: [0.528, 0.590]\n"
     ]
    }
   ],
   "source": [
    "## Random Sample for A/A Testing\n",
    "test_sample_one = clean_test.sample(1000, replace=False)\n",
    "remaining_indexes = list(set(clean_test.index).difference(set(test_sample_one.index)))\n",
    "test_sample_two = clean_test.iloc[remaining_indexes,:].sample(1000, replace=False)\n",
    "\n",
    "controls = test_sample_one['Ads_Yes']\n",
    "treatments = test_sample_two['Ads_Yes']\n",
    "num_ctrl = controls.count()\n",
    "num_treat = treatments.count()\n",
    "successes = [controls.sum(), treatments.sum()]\n",
    "tots = [num_ctrl, num_treat]\n",
    "\n",
    "z_stat, pval = proportions_ztest(successes, nobs=tots)\n",
    "(lower_con, lower_treat), (upper_con, upper_treat) = proportion_confint(successes, nobs=tots, alpha=0.05)\n",
    "\n",
    "print(f'z statistic: {z_stat:.2f}')\n",
    "print(f'p-value: {pval:.3f}')\n",
    "print(f'ci 95% for control group: [{lower_con:.3f}, {upper_con:.3f}]')\n",
    "print(f'ci 95% for treatment group: [{lower_treat:.3f}, {upper_treat:.3f}]')"
   ]
  },
  {
   "cell_type": "markdown",
   "id": "c86771ef-40c0-4dd8-8120-98c84ab67ee2",
   "metadata": {},
   "source": [
    "##### NOTE: The A/A testing on 2 samples from the treatment group has a high p-value, implying that there is no significant difference within the treatment group and the user experience is same across."
   ]
  }
 ],
 "metadata": {
  "kernelspec": {
   "display_name": "Python 3 (ipykernel)",
   "language": "python",
   "name": "python3"
  },
  "language_info": {
   "codemirror_mode": {
    "name": "ipython",
    "version": 3
   },
   "file_extension": ".py",
   "mimetype": "text/x-python",
   "name": "python",
   "nbconvert_exporter": "python",
   "pygments_lexer": "ipython3",
   "version": "3.7.11"
  }
 },
 "nbformat": 4,
 "nbformat_minor": 5
}
